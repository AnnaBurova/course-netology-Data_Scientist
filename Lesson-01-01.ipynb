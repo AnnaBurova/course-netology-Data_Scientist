{
 "cells": [
  {
   "cell_type": "markdown",
   "id": "feed2695-76af-4f1f-9fdc-798d52b680a1",
   "metadata": {},
   "source": [
    "# 01. Подготовка\n",
    "# 01. Общее о Python"
   ]
  },
  {
   "cell_type": "markdown",
   "id": "8c858432-8d17-471a-84a6-258cc47f36fa",
   "metadata": {},
   "source": [
    "## 01. Jupyter Notebook"
   ]
  },
  {
   "cell_type": "markdown",
   "id": "7ab1b3d6-1fb2-45a8-943f-b09b50824aca",
   "metadata": {},
   "source": [
    "### Быстрые клавиши"
   ]
  },
  {
   "cell_type": "markdown",
   "id": "d3f261d9-51d5-43b2-9e88-7910aa8f4fa9",
   "metadata": {},
   "source": [
    "Выполнить команду и перейти на следующую строку  \n",
    "*Shift + Enter*"
   ]
  },
  {
   "cell_type": "markdown",
   "id": "0f549904-315b-4898-b34f-4640ea66436c",
   "metadata": {},
   "source": [
    "Выполнить команду и остаться на строке  \n",
    "*Ctrl + Enter*"
   ]
  },
  {
   "cell_type": "markdown",
   "id": "09f547e4-494c-4eb9-a4f1-42bf66962863",
   "metadata": {},
   "source": [
    "Комментарии и Формулы  \n",
    "*Markdown*"
   ]
  },
  {
   "cell_type": "markdown",
   "id": "a471db4e-8b13-478f-950f-42ff0ac31ebd",
   "metadata": {},
   "source": [
    "Покинуть рабочую ячейку, перевести её в Markdown  \n",
    "*ESC > M*"
   ]
  },
  {
   "cell_type": "markdown",
   "id": "787ef5a0-ea6c-404c-a0e9-24bafff9125b",
   "metadata": {},
   "source": [
    "Добавить новую ячейку  \n",
    "*B*"
   ]
  },
  {
   "cell_type": "markdown",
   "id": "bf6ed9e2-de27-499f-8148-db9085e5b69b",
   "metadata": {},
   "source": [
    "Список горячих команд  \n",
    "*Ctrl + Shift + C*"
   ]
  },
  {
   "cell_type": "markdown",
   "id": "c1b6de43-98c3-4ea4-b727-aae3b0045844",
   "metadata": {},
   "source": [
    "Markdown\n",
    "```\n",
    "*italic*\n",
    "**bold**\n",
    "# Headline 1\n",
    "## Headline 2\n",
    "### Headline 3\n",
    "#### Headline 4\n",
    "```"
   ]
  },
  {
   "cell_type": "markdown",
   "id": "a5adc323-3cc5-4a83-8283-10ccfce72256",
   "metadata": {},
   "source": [
    "## 02. Python"
   ]
  },
  {
   "cell_type": "markdown",
   "id": "b7442ac5-074d-4848-abca-07794891644e",
   "metadata": {},
   "source": [
    "### Простой синтаксис"
   ]
  },
  {
   "cell_type": "code",
   "execution_count": 13,
   "id": "269123a6-d3ea-43e4-b0c3-a3749f1ddc67",
   "metadata": {},
   "outputs": [
    {
     "name": "stdout",
     "output_type": "stream",
     "text": [
      "0\n",
      "1\n",
      "2\n",
      "3\n",
      "4\n"
     ]
    }
   ],
   "source": [
    "for i in range(0, 5):\n",
    "    print(i)"
   ]
  },
  {
   "cell_type": "markdown",
   "id": "4f8b7192-e2aa-4e27-b198-0140273e3e05",
   "metadata": {},
   "source": [
    "### Динамическая типизация"
   ]
  },
  {
   "cell_type": "code",
   "execution_count": 15,
   "id": "ffb0765a-1965-442c-8945-5083a6448f29",
   "metadata": {},
   "outputs": [
    {
     "name": "stdout",
     "output_type": "stream",
     "text": [
      "Тип переменной a <class 'int'>\n",
      "Тип переменной a <class 'str'>\n"
     ]
    }
   ],
   "source": [
    "a = 1\n",
    "print( 'Тип переменной a ' + str( type(a) ) )\n",
    "\n",
    "a = '1'\n",
    "print( 'Тип переменной a ' + str( type(a) ) )"
   ]
  },
  {
   "cell_type": "markdown",
   "id": "a65fff70-6d3e-4478-b083-fc391cddfe54",
   "metadata": {},
   "source": [
    "### Готовые библиотеки с решениями для работы с данными\n",
    "- все системы пишут API и коннекторы\n",
    "- базы данных (pymysql, pymongo)\n",
    "- инструменты работы с большими данными (pyspark, LogsAPI от Яндекс.Метрики)\n",
    "### Большое сообщество\n",
    "### По умолчанию стоит в Linux"
   ]
  },
  {
   "cell_type": "markdown",
   "id": "20369e6e-6f6d-4140-85af-b8057bf1694f",
   "metadata": {},
   "source": [
    "## 03. Общие рекомендации"
   ]
  },
  {
   "cell_type": "markdown",
   "id": "dfc6ebaa-87de-43e8-ae0d-f5b9f9844ab4",
   "metadata": {},
   "source": [
    "- Давайте переменным интуитивно понятные названия\n",
    "- Разбивайте код на отдельные функции и классы\n",
    "- Каждая функция должна содержать описание и пример её вызова в документации\n",
    "- Для каждой задачи подумайте над наиболее подохдящим инструментом решения\n",
    "- Выносите параметры скрипта в YAML-файл\n",
    "- строки с параметрами лучше выводить с помощью format()"
   ]
  },
  {
   "cell_type": "code",
   "execution_count": 19,
   "id": "ee16597b-fdf9-4105-b4fe-a908efc3db08",
   "metadata": {},
   "outputs": [
    {
     "name": "stdout",
     "output_type": "stream",
     "text": [
      "Пользователь с ID 1 имеет статус Админ\n"
     ]
    }
   ],
   "source": [
    "# Хорошо\n",
    "userID = 1\n",
    "status = 'Админ'\n",
    "print( 'Пользователь с ID {} имеет статус {}'.format( userID, status ) )"
   ]
  },
  {
   "cell_type": "code",
   "execution_count": 20,
   "id": "e52a7948-b35c-497c-bd74-f0ad728b9a62",
   "metadata": {},
   "outputs": [
    {
     "name": "stdout",
     "output_type": "stream",
     "text": [
      "Пользователь с ID 1 имеет статус Админ\n"
     ]
    }
   ],
   "source": [
    "# Плохо\n",
    "print( 'Пользователь с ID ' + str(userID) + ' имеет статус ' + status )"
   ]
  },
  {
   "cell_type": "markdown",
   "id": "7537bb1c-a96a-4ba4-8b3d-f8061f5ff28b",
   "metadata": {},
   "source": [
    "- Комментарии могут быть излишними, однако из отсутствие это гораздо хуже\n",
    "- Каждый скрипт должен содержать описание или ссылку на JIRA, GitHub, GitLab, Confluence, etc.\n",
    "- Программа (почти) всегда следует заложенному в неё алгоритму\n",
    "- Организуйте Code Review"
   ]
  },
  {
   "cell_type": "markdown",
   "id": "b1932878-a9af-491b-a847-31542c447785",
   "metadata": {},
   "source": [
    "- **Пишите код так, как будто сопровождать его будет склонный к насилию психопал, коотрый знает, где вы живете**"
   ]
  },
  {
   "cell_type": "markdown",
   "id": "1c1d454e-6ab6-461e-84a5-d74021b21f2a",
   "metadata": {},
   "source": [
    "## 04. Практическое занятие"
   ]
  },
  {
   "cell_type": "markdown",
   "id": "7e9baba3-1590-404a-bb4b-d81a3dfee279",
   "metadata": {},
   "source": [
    "### 01. Переменные"
   ]
  },
  {
   "cell_type": "markdown",
   "id": "b13edd63-4727-4167-b7d0-c96e81662685",
   "metadata": {},
   "source": [
    "Несколько способов писать названия переменных:\n",
    "1. snake_case\n",
    "2. camelCase"
   ]
  },
  {
   "cell_type": "code",
   "execution_count": 26,
   "id": "d62abda6-cc9d-4fc2-b381-d6972503ae70",
   "metadata": {},
   "outputs": [],
   "source": [
    "snake_case_integer = 5"
   ]
  },
  {
   "cell_type": "markdown",
   "id": "14f5d4b5-1d32-4d4d-9fec-594e57233d29",
   "metadata": {},
   "source": [
    "В Jupiter Notebook работает автодополнение.  \n",
    "Напишите несколько букв и нажмите TAB, вам предложат ранее объявленные переменные."
   ]
  },
  {
   "cell_type": "code",
   "execution_count": 28,
   "id": "335b68e1-543c-4995-967e-f4dd63a7768e",
   "metadata": {},
   "outputs": [
    {
     "data": {
      "text/plain": [
       "5"
      ]
     },
     "execution_count": 28,
     "metadata": {},
     "output_type": "execute_result"
    }
   ],
   "source": [
    "snake_case_integer"
   ]
  },
  {
   "cell_type": "markdown",
   "id": "6e94d0dd-f48d-40e6-8f0a-6ec05a8e71d7",
   "metadata": {},
   "source": [
    "Что бы понять тип переменной, используйте функцию type()"
   ]
  },
  {
   "cell_type": "code",
   "execution_count": 30,
   "id": "bf49b359-1ae2-43e0-a2fc-d565a3f3f2f3",
   "metadata": {},
   "outputs": [
    {
     "data": {
      "text/plain": [
       "int"
      ]
     },
     "execution_count": 30,
     "metadata": {},
     "output_type": "execute_result"
    }
   ],
   "source": [
    "type( snake_case_integer )"
   ]
  },
  {
   "cell_type": "markdown",
   "id": "d10c727b-761b-4d39-8f11-b1a6c92666fb",
   "metadata": {},
   "source": [
    "Значение типов:\n",
    "- **str** - Строки / Текст\n",
    "- **int** - Целое число\n",
    "- **float** - Нецелое число"
   ]
  },
  {
   "cell_type": "code",
   "execution_count": 32,
   "id": "502b14e9-6fa5-4e1c-90f2-5aba8eadc27a",
   "metadata": {},
   "outputs": [],
   "source": [
    "camelCaseString = \"Строка из слов\""
   ]
  },
  {
   "cell_type": "code",
   "execution_count": 33,
   "id": "c444c866-5e9b-46e8-b47f-618af47af916",
   "metadata": {},
   "outputs": [
    {
     "data": {
      "text/plain": [
       "str"
      ]
     },
     "execution_count": 33,
     "metadata": {},
     "output_type": "execute_result"
    }
   ],
   "source": [
    "type( camelCaseString )"
   ]
  },
  {
   "cell_type": "markdown",
   "id": "fb5868f4-55b1-40ef-b38c-c6cb41cf71bd",
   "metadata": {},
   "source": [
    "В строке можно использовать \"двойные\" кавычки или же 'одинарные'.  \n",
    "Можно использовать оба типа, если есть ниобходимость поставить кавычки внутри строки."
   ]
  },
  {
   "cell_type": "code",
   "execution_count": 35,
   "id": "5adaf65b-4dad-43c6-a633-408c0da11f23",
   "metadata": {},
   "outputs": [],
   "source": [
    "sqlQuery = \"select * from TABLE where date = '2024-10-30'\""
   ]
  },
  {
   "cell_type": "markdown",
   "id": "68b5a50a-d7da-440f-86e4-9da176777164",
   "metadata": {},
   "source": [
    "Если нужно найти позицию буквы в слове, можно использовать index.  \n",
    "Нумерация элементов начинается с 0"
   ]
  },
  {
   "cell_type": "code",
   "execution_count": 51,
   "id": "607fb99f-17a4-498e-9c1b-f4b34add2f3e",
   "metadata": {},
   "outputs": [
    {
     "data": {
      "text/plain": [
       "'С'"
      ]
     },
     "execution_count": 51,
     "metadata": {},
     "output_type": "execute_result"
    }
   ],
   "source": [
    "camelCaseString[0]"
   ]
  },
  {
   "cell_type": "code",
   "execution_count": null,
   "id": "68e6480b-2982-4dbe-825f-908b5186f2e3",
   "metadata": {},
   "outputs": [],
   "source": []
  }
 ],
 "metadata": {
  "kernelspec": {
   "display_name": "Python 3 (ipykernel)",
   "language": "python",
   "name": "python3"
  },
  "language_info": {
   "codemirror_mode": {
    "name": "ipython",
    "version": 3
   },
   "file_extension": ".py",
   "mimetype": "text/x-python",
   "name": "python",
   "nbconvert_exporter": "python",
   "pygments_lexer": "ipython3",
   "version": "3.11.7"
  }
 },
 "nbformat": 4,
 "nbformat_minor": 5
}

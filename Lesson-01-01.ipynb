{
 "cells": [
  {
   "cell_type": "markdown",
   "id": "feed2695-76af-4f1f-9fdc-798d52b680a1",
   "metadata": {},
   "source": [
    "# 01. Подготовка\n",
    "# 01. Общее о Python"
   ]
  },
  {
   "cell_type": "markdown",
   "id": "8c858432-8d17-471a-84a6-258cc47f36fa",
   "metadata": {},
   "source": [
    "## 01. Jupyter Notebook"
   ]
  },
  {
   "cell_type": "markdown",
   "id": "7ab1b3d6-1fb2-45a8-943f-b09b50824aca",
   "metadata": {},
   "source": [
    "### Быстрые клавиши"
   ]
  },
  {
   "cell_type": "markdown",
   "id": "d3f261d9-51d5-43b2-9e88-7910aa8f4fa9",
   "metadata": {},
   "source": [
    "Выполнить команду и перейти на следующую строку  \n",
    "*Shift + Enter*"
   ]
  },
  {
   "cell_type": "markdown",
   "id": "0f549904-315b-4898-b34f-4640ea66436c",
   "metadata": {},
   "source": [
    "Выполнить команду и остаться на строке  \n",
    "*Ctrl + Enter*"
   ]
  },
  {
   "cell_type": "markdown",
   "id": "09f547e4-494c-4eb9-a4f1-42bf66962863",
   "metadata": {},
   "source": [
    "Комментарии и Формулы  \n",
    "*Markdown*"
   ]
  },
  {
   "cell_type": "markdown",
   "id": "a471db4e-8b13-478f-950f-42ff0ac31ebd",
   "metadata": {},
   "source": [
    "Покинуть рабочую ячейку, перевести её в Markdown  \n",
    "*ESC > M*"
   ]
  },
  {
   "cell_type": "markdown",
   "id": "787ef5a0-ea6c-404c-a0e9-24bafff9125b",
   "metadata": {},
   "source": [
    "Добавить новую ячейку  \n",
    "*B*"
   ]
  },
  {
   "cell_type": "markdown",
   "id": "bf6ed9e2-de27-499f-8148-db9085e5b69b",
   "metadata": {},
   "source": [
    "Список горячих команд  \n",
    "*Ctrl + Shift + C*"
   ]
  },
  {
   "cell_type": "markdown",
   "id": "c1b6de43-98c3-4ea4-b727-aae3b0045844",
   "metadata": {},
   "source": [
    "Markdown\n",
    "```\n",
    "*italic*\n",
    "**bold**\n",
    "# Headline 1\n",
    "## Headline 2\n",
    "### Headline 3\n",
    "#### Headline 4\n",
    "```"
   ]
  },
  {
   "cell_type": "markdown",
   "id": "a5adc323-3cc5-4a83-8283-10ccfce72256",
   "metadata": {},
   "source": [
    "## 02. Python"
   ]
  },
  {
   "cell_type": "markdown",
   "id": "b7442ac5-074d-4848-abca-07794891644e",
   "metadata": {},
   "source": [
    "### Простой синтаксис"
   ]
  },
  {
   "cell_type": "code",
   "execution_count": 13,
   "id": "269123a6-d3ea-43e4-b0c3-a3749f1ddc67",
   "metadata": {},
   "outputs": [
    {
     "name": "stdout",
     "output_type": "stream",
     "text": [
      "0\n",
      "1\n",
      "2\n",
      "3\n",
      "4\n"
     ]
    }
   ],
   "source": [
    "for i in range(0, 5):\n",
    "    print(i)"
   ]
  },
  {
   "cell_type": "markdown",
   "id": "4f8b7192-e2aa-4e27-b198-0140273e3e05",
   "metadata": {},
   "source": [
    "### Динамическая типизация"
   ]
  },
  {
   "cell_type": "code",
   "execution_count": 15,
   "id": "ffb0765a-1965-442c-8945-5083a6448f29",
   "metadata": {},
   "outputs": [
    {
     "name": "stdout",
     "output_type": "stream",
     "text": [
      "Тип переменной a <class 'int'>\n",
      "Тип переменной a <class 'str'>\n"
     ]
    }
   ],
   "source": [
    "a = 1\n",
    "print( 'Тип переменной a ' + str( type(a) ) )\n",
    "\n",
    "a = '1'\n",
    "print( 'Тип переменной a ' + str( type(a) ) )"
   ]
  },
  {
   "cell_type": "markdown",
   "id": "a65fff70-6d3e-4478-b083-fc391cddfe54",
   "metadata": {},
   "source": [
    "### Готовые библиотеки с решениями для работы с данными\n",
    "- все системы пишут API и коннекторы\n",
    "- базы данных (pymysql, pymongo)\n",
    "- инструменты работы с большими данными (pyspark, LogsAPI от Яндекс.Метрики)\n",
    "### Большое сообщество\n",
    "### По умолчанию стоит в Linux"
   ]
  },
  {
   "cell_type": "markdown",
   "id": "20369e6e-6f6d-4140-85af-b8057bf1694f",
   "metadata": {},
   "source": [
    "## 03. Общие рекомендации"
   ]
  },
  {
   "cell_type": "markdown",
   "id": "dfc6ebaa-87de-43e8-ae0d-f5b9f9844ab4",
   "metadata": {},
   "source": [
    "- Давайте переменным интуитивно понятные названия\n",
    "- Разбивайте код на отдельные функции и классы\n",
    "- Каждая функция должна содержать описание и пример её вызова в документации\n",
    "- Для каждой задачи подумайте над наиболее подохдящим инструментом решения\n",
    "- Выносите параметры скрипта в YAML-файл\n",
    "- строки с параметрами лучше выводить с помощью `format()`"
   ]
  },
  {
   "cell_type": "code",
   "execution_count": 19,
   "id": "ee16597b-fdf9-4105-b4fe-a908efc3db08",
   "metadata": {},
   "outputs": [
    {
     "name": "stdout",
     "output_type": "stream",
     "text": [
      "Пользователь с ID 1 имеет статус Админ\n"
     ]
    }
   ],
   "source": [
    "# Хорошо\n",
    "userID = 1\n",
    "status = 'Админ'\n",
    "print( 'Пользователь с ID {} имеет статус {}'.format( userID, status ) )"
   ]
  },
  {
   "cell_type": "code",
   "execution_count": 20,
   "id": "e52a7948-b35c-497c-bd74-f0ad728b9a62",
   "metadata": {},
   "outputs": [
    {
     "name": "stdout",
     "output_type": "stream",
     "text": [
      "Пользователь с ID 1 имеет статус Админ\n"
     ]
    }
   ],
   "source": [
    "# Плохо\n",
    "print( 'Пользователь с ID ' + str(userID) + ' имеет статус ' + status )"
   ]
  },
  {
   "cell_type": "markdown",
   "id": "7537bb1c-a96a-4ba4-8b3d-f8061f5ff28b",
   "metadata": {},
   "source": [
    "- Комментарии могут быть излишними, однако из отсутствие это гораздо хуже\n",
    "- Каждый скрипт должен содержать описание или ссылку на JIRA, GitHub, GitLab, Confluence, etc.\n",
    "- Программа (почти) всегда следует заложенному в неё алгоритму\n",
    "- Организуйте Code Review"
   ]
  },
  {
   "cell_type": "markdown",
   "id": "b1932878-a9af-491b-a847-31542c447785",
   "metadata": {},
   "source": [
    "- **Пишите код так, как будто сопровождать его будет склонный к насилию психопал, коотрый знает, где вы живете**"
   ]
  },
  {
   "cell_type": "markdown",
   "id": "1c1d454e-6ab6-461e-84a5-d74021b21f2a",
   "metadata": {},
   "source": [
    "## 04. Практическое занятие"
   ]
  },
  {
   "cell_type": "markdown",
   "id": "7e9baba3-1590-404a-bb4b-d81a3dfee279",
   "metadata": {},
   "source": [
    "### 01. Переменные"
   ]
  },
  {
   "cell_type": "markdown",
   "id": "b13edd63-4727-4167-b7d0-c96e81662685",
   "metadata": {},
   "source": [
    "Несколько способов писать названия переменных:\n",
    "1. snake_case\n",
    "2. camelCase"
   ]
  },
  {
   "cell_type": "code",
   "execution_count": 26,
   "id": "d62abda6-cc9d-4fc2-b381-d6972503ae70",
   "metadata": {},
   "outputs": [],
   "source": [
    "snake_case_integer = 5"
   ]
  },
  {
   "cell_type": "markdown",
   "id": "14f5d4b5-1d32-4d4d-9fec-594e57233d29",
   "metadata": {},
   "source": [
    "В Jupiter Notebook работает автодополнение.  \n",
    "Напишите несколько букв и нажмите TAB, вам предложат ранее объявленные переменные."
   ]
  },
  {
   "cell_type": "code",
   "execution_count": 28,
   "id": "335b68e1-543c-4995-967e-f4dd63a7768e",
   "metadata": {},
   "outputs": [
    {
     "data": {
      "text/plain": [
       "5"
      ]
     },
     "execution_count": 28,
     "metadata": {},
     "output_type": "execute_result"
    }
   ],
   "source": [
    "snake_case_integer"
   ]
  },
  {
   "cell_type": "markdown",
   "id": "6e94d0dd-f48d-40e6-8f0a-6ec05a8e71d7",
   "metadata": {},
   "source": [
    "Чтобы узнать тип переменной, используйте функцию `type()`"
   ]
  },
  {
   "cell_type": "markdown",
   "id": "d10c727b-761b-4d39-8f11-b1a6c92666fb",
   "metadata": {},
   "source": [
    "Значения типов:\n",
    "- **str** - Строки / Текст\n",
    "- **int** - Целое число\n",
    "- **float** - Нецелое число (Вещественное число)"
   ]
  },
  {
   "cell_type": "code",
   "execution_count": 31,
   "id": "bf49b359-1ae2-43e0-a2fc-d565a3f3f2f3",
   "metadata": {},
   "outputs": [
    {
     "data": {
      "text/plain": [
       "int"
      ]
     },
     "execution_count": 31,
     "metadata": {},
     "output_type": "execute_result"
    }
   ],
   "source": [
    "type( snake_case_integer )"
   ]
  },
  {
   "cell_type": "markdown",
   "id": "f86bf75d-9602-46d9-b6b6-a95b063d92c4",
   "metadata": {},
   "source": [
    "Разделитель Вещественного числа - точка"
   ]
  },
  {
   "cell_type": "code",
   "execution_count": 33,
   "id": "25f97711-598c-4e30-a469-b6f25d0c4822",
   "metadata": {},
   "outputs": [
    {
     "data": {
      "text/plain": [
       "float"
      ]
     },
     "execution_count": 33,
     "metadata": {},
     "output_type": "execute_result"
    }
   ],
   "source": [
    "floatNumber = 3.14\n",
    "type( floatNumber )"
   ]
  },
  {
   "cell_type": "code",
   "execution_count": 34,
   "id": "502b14e9-6fa5-4e1c-90f2-5aba8eadc27a",
   "metadata": {},
   "outputs": [
    {
     "data": {
      "text/plain": [
       "str"
      ]
     },
     "execution_count": 34,
     "metadata": {},
     "output_type": "execute_result"
    }
   ],
   "source": [
    "camelCaseString = \"Строка из слов\"\n",
    "type( camelCaseString )"
   ]
  },
  {
   "cell_type": "markdown",
   "id": "fb5868f4-55b1-40ef-b38c-c6cb41cf71bd",
   "metadata": {},
   "source": [
    "В строке можно использовать \"двойные\" кавычки или же 'одинарные'.  \n",
    "Можно использовать оба типа, если есть ниобходимость поставить кавычки внутри строки."
   ]
  },
  {
   "cell_type": "code",
   "execution_count": 36,
   "id": "5adaf65b-4dad-43c6-a633-408c0da11f23",
   "metadata": {},
   "outputs": [],
   "source": [
    "sqlQuery = \"select * from TABLE where date = '2024-10-30'\""
   ]
  },
  {
   "cell_type": "markdown",
   "id": "68b5a50a-d7da-440f-86e4-9da176777164",
   "metadata": {},
   "source": [
    "Если нужно отобразить букву в слове, можно использовать `index`  \n",
    "Нумерация элементов начинается с 0"
   ]
  },
  {
   "cell_type": "code",
   "execution_count": 38,
   "id": "607fb99f-17a4-498e-9c1b-f4b34add2f3e",
   "metadata": {},
   "outputs": [
    {
     "data": {
      "text/plain": [
       "'С'"
      ]
     },
     "execution_count": 38,
     "metadata": {},
     "output_type": "execute_result"
    }
   ],
   "source": [
    "camelCaseString[0]"
   ]
  },
  {
   "cell_type": "markdown",
   "id": "208dda60-3f57-4bdb-9c47-f21e9be9801c",
   "metadata": {},
   "source": [
    "### 02. Листы"
   ]
  },
  {
   "cell_type": "code",
   "execution_count": 40,
   "id": "8fdc83ae-4c24-454e-baf1-c0716806d110",
   "metadata": {},
   "outputs": [
    {
     "data": {
      "text/plain": [
       "list"
      ]
     },
     "execution_count": 40,
     "metadata": {},
     "output_type": "execute_result"
    }
   ],
   "source": [
    "justNumbers = [ 4, 1, 13, 0, 6 ]\n",
    "type( justNumbers )"
   ]
  },
  {
   "cell_type": "markdown",
   "id": "b5b3b0aa-2489-405d-812b-06cec063694b",
   "metadata": {},
   "source": [
    "В Python не используется слово \"Массив\", обычно говорят \"Лист\" или \"Список\""
   ]
  },
  {
   "cell_type": "markdown",
   "id": "3acdbd33-83da-4f0c-ac1b-91bbd8b8777f",
   "metadata": {},
   "source": [
    "Чтобы посчитать количество элементов в списке, используйте функцию `len()`"
   ]
  },
  {
   "cell_type": "code",
   "execution_count": 43,
   "id": "dc78122c-fadf-42da-be2b-3ccf54cc2466",
   "metadata": {},
   "outputs": [
    {
     "data": {
      "text/plain": [
       "5"
      ]
     },
     "execution_count": 43,
     "metadata": {},
     "output_type": "execute_result"
    }
   ],
   "source": [
    "len( justNumbers )"
   ]
  },
  {
   "cell_type": "markdown",
   "id": "c7098deb-5539-4f08-842a-63497e31ded4",
   "metadata": {},
   "source": [
    "Чтобы посчитать сумму элементов в списке, используйте функцию `sum()`"
   ]
  },
  {
   "cell_type": "code",
   "execution_count": 45,
   "id": "a88a7922-3859-437f-a4ea-c1653e35eb1c",
   "metadata": {},
   "outputs": [
    {
     "data": {
      "text/plain": [
       "24"
      ]
     },
     "execution_count": 45,
     "metadata": {},
     "output_type": "execute_result"
    }
   ],
   "source": [
    "sum( justNumbers )"
   ]
  },
  {
   "cell_type": "markdown",
   "id": "0424101f-ba23-4a2d-9244-e5e61535d6d1",
   "metadata": {},
   "source": [
    "Чтобы отсортировать спискок, используйте функцию `sorted()`  \n",
    "Добавьте аргумент `reverse = True` для сортировки в обратном порядке"
   ]
  },
  {
   "cell_type": "code",
   "execution_count": 47,
   "id": "1587ce40-4146-4f28-ae17-09d968746e77",
   "metadata": {},
   "outputs": [
    {
     "data": {
      "text/plain": [
       "[0, 1, 4, 6, 13]"
      ]
     },
     "execution_count": 47,
     "metadata": {},
     "output_type": "execute_result"
    }
   ],
   "source": [
    "sorted( justNumbers )"
   ]
  },
  {
   "cell_type": "code",
   "execution_count": 48,
   "id": "2b518435-9bda-428e-a2c7-c8555f90d5f4",
   "metadata": {},
   "outputs": [
    {
     "data": {
      "text/plain": [
       "[13, 6, 4, 1, 0]"
      ]
     },
     "execution_count": 48,
     "metadata": {},
     "output_type": "execute_result"
    }
   ],
   "source": [
    "sorted( justNumbers, reverse = True )"
   ]
  },
  {
   "cell_type": "markdown",
   "id": "dd6913dd-474e-4424-92c9-54a81d900629",
   "metadata": {},
   "source": [
    "Чтобы добавить элемент в лист, используйте метод `append()`  \n",
    "Обратите внимание что метод навешивается после самого листа."
   ]
  },
  {
   "cell_type": "code",
   "execution_count": 50,
   "id": "530acaf2-4296-4515-bc5e-fd8838263df3",
   "metadata": {},
   "outputs": [
    {
     "data": {
      "text/plain": [
       "[4, 1, 13, 0, 6, 55]"
      ]
     },
     "execution_count": 50,
     "metadata": {},
     "output_type": "execute_result"
    }
   ],
   "source": [
    "justNumbers.append( 55 )\n",
    "justNumbers"
   ]
  },
  {
   "cell_type": "markdown",
   "id": "61755ead-5381-4616-a4d0-4d369cf3d2c3",
   "metadata": {},
   "source": [
    "Можно так же добавить к листу чисел другой лист."
   ]
  },
  {
   "cell_type": "code",
   "execution_count": 52,
   "id": "671ac536-3627-4f06-8295-69a4851e4c38",
   "metadata": {},
   "outputs": [
    {
     "data": {
      "text/plain": [
       "[4, 1, 13, 0, 6, 55, [8, 9]]"
      ]
     },
     "execution_count": 52,
     "metadata": {},
     "output_type": "execute_result"
    }
   ],
   "source": [
    "justNumbers.append( [8, 9] )\n",
    "justNumbers"
   ]
  },
  {
   "cell_type": "markdown",
   "id": "e1154aa6-bae2-4788-948c-56ab8fb50447",
   "metadata": {},
   "source": [
    "Чтобы объединить два листа, используйте знак плюса.  \n",
    "Этот способ так же называют склеиванием."
   ]
  },
  {
   "cell_type": "code",
   "execution_count": 54,
   "id": "d17f3bca-3946-41a0-9af4-d23a1fd88caa",
   "metadata": {},
   "outputs": [
    {
     "data": {
      "text/plain": [
       "[1, 2, 3, 4, 5, 6]"
      ]
     },
     "execution_count": 54,
     "metadata": {},
     "output_type": "execute_result"
    }
   ],
   "source": [
    "[1, 2, 3] + [4, 5, 6]"
   ]
  },
  {
   "cell_type": "markdown",
   "id": "154a5dfa-f638-4596-b7f3-18dd8741bec6",
   "metadata": {},
   "source": [
    "### 03. Листы - Изменения листов"
   ]
  },
  {
   "cell_type": "markdown",
   "id": "51f831f1-912d-48b2-832a-ec17d67036d4",
   "metadata": {},
   "source": [
    "В примере ниже переменная `justNumbers` и `copyNumbers` на самом деле указывают на один и тот же объект.  \n",
    "В результате, при добавлении в `copyNumbers` очередного элемента этот элемент добавляется и в исходном листе `justNumbers`."
   ]
  },
  {
   "cell_type": "code",
   "execution_count": 57,
   "id": "50bb2161-81e7-4d8e-b854-ec449d7982c2",
   "metadata": {},
   "outputs": [
    {
     "data": {
      "text/plain": [
       "[4, 1, 13, 0, 6, 55, [8, 9]]"
      ]
     },
     "execution_count": 57,
     "metadata": {},
     "output_type": "execute_result"
    }
   ],
   "source": [
    "justNumbers"
   ]
  },
  {
   "cell_type": "code",
   "execution_count": 58,
   "id": "1f4e971d-0571-4bed-b5e6-abf70a8c7f2f",
   "metadata": {},
   "outputs": [
    {
     "data": {
      "text/plain": [
       "[4, 1, 13, 0, 6, 55, [8, 9]]"
      ]
     },
     "execution_count": 58,
     "metadata": {},
     "output_type": "execute_result"
    }
   ],
   "source": [
    "copyNumbers = justNumbers\n",
    "copyNumbers"
   ]
  },
  {
   "cell_type": "code",
   "execution_count": 59,
   "id": "2fa8d241-6173-4d81-bf92-ab9d6571d5b7",
   "metadata": {},
   "outputs": [
    {
     "data": {
      "text/plain": [
       "[4, 1, 13, 0, 6, 55, [8, 9], 66]"
      ]
     },
     "execution_count": 59,
     "metadata": {},
     "output_type": "execute_result"
    }
   ],
   "source": [
    "copyNumbers.append( 66 )\n",
    "copyNumbers"
   ]
  },
  {
   "cell_type": "code",
   "execution_count": 60,
   "id": "8e256dd2-fa51-4b14-817d-fa39f53c7339",
   "metadata": {},
   "outputs": [
    {
     "data": {
      "text/plain": [
       "[4, 1, 13, 0, 6, 55, [8, 9], 66]"
      ]
     },
     "execution_count": 60,
     "metadata": {},
     "output_type": "execute_result"
    }
   ],
   "source": [
    "justNumbers"
   ]
  },
  {
   "cell_type": "code",
   "execution_count": 61,
   "id": "9ed177cb-55e7-4591-a223-0a18487bd9c9",
   "metadata": {},
   "outputs": [
    {
     "data": {
      "text/plain": [
       "True"
      ]
     },
     "execution_count": 61,
     "metadata": {},
     "output_type": "execute_result"
    }
   ],
   "source": [
    "id( justNumbers ) == id( copyNumbers )"
   ]
  },
  {
   "cell_type": "markdown",
   "id": "76a98087-1ab4-4d4f-9894-810ae256e034",
   "metadata": {},
   "source": [
    "### 04. Листы - Модуль copy"
   ]
  },
  {
   "cell_type": "code",
   "execution_count": 63,
   "id": "64075235-9638-4035-9110-b1cde37c746c",
   "metadata": {},
   "outputs": [
    {
     "data": {
      "text/plain": [
       "[4, 1, 13, 0, 6, 55]"
      ]
     },
     "execution_count": 63,
     "metadata": {},
     "output_type": "execute_result"
    }
   ],
   "source": [
    "newJustNumbers = [ 4, 1, 13, 0, 6, 55 ]\n",
    "newJustNumbers"
   ]
  },
  {
   "cell_type": "code",
   "execution_count": 64,
   "id": "075fe6a2-c20b-44fe-94ed-58e37d22d4d5",
   "metadata": {},
   "outputs": [],
   "source": [
    "import copy"
   ]
  },
  {
   "cell_type": "markdown",
   "id": "6234b41f-ba43-48dc-8054-4c67f6efccef",
   "metadata": {},
   "source": [
    "С помощью слова `import` в Python импортируется/вызывается библиотека.  \n",
    "`copy` - стандартная библиотека. Она уже установлена в системе по умолчанию.  \n",
    "Ошибка `ModuleNotFoundError: No module named 'copyf'` - библиотека не установлена или в названии ошибка."
   ]
  },
  {
   "cell_type": "code",
   "execution_count": 66,
   "id": "8c37583c-2fff-4ed7-89d8-049422f437a2",
   "metadata": {},
   "outputs": [
    {
     "data": {
      "text/plain": [
       "[4, 1, 13, 0, 6, 55]"
      ]
     },
     "execution_count": 66,
     "metadata": {},
     "output_type": "execute_result"
    }
   ],
   "source": [
    "copyNumbersCopy = copy.copy( newJustNumbers )\n",
    "copyNumbersCopy"
   ]
  },
  {
   "cell_type": "code",
   "execution_count": 67,
   "id": "c3ed0f2c-c04f-4be3-9f23-66c358beb044",
   "metadata": {},
   "outputs": [
    {
     "data": {
      "text/plain": [
       "False"
      ]
     },
     "execution_count": 67,
     "metadata": {},
     "output_type": "execute_result"
    }
   ],
   "source": [
    "id( newJustNumbers ) == id( copyNumbersCopy )"
   ]
  },
  {
   "cell_type": "markdown",
   "id": "72dc607c-98c8-4398-a687-ca82c5f3ee8e",
   "metadata": {},
   "source": [
    "При использовании `copy.copy()` созадётся новый объект с таким же значением."
   ]
  },
  {
   "cell_type": "code",
   "execution_count": 69,
   "id": "5996dbc0-e980-41a9-a30b-d4fca61385cd",
   "metadata": {},
   "outputs": [
    {
     "data": {
      "text/plain": [
       "[4, 1, 13, 0, 6, 55]"
      ]
     },
     "execution_count": 69,
     "metadata": {},
     "output_type": "execute_result"
    }
   ],
   "source": [
    "copyNumbersDeepcopy = copy.deepcopy( newJustNumbers )\n",
    "copyNumbersDeepcopy"
   ]
  },
  {
   "cell_type": "code",
   "execution_count": 70,
   "id": "8f454188-864c-44df-852a-e3725efad632",
   "metadata": {},
   "outputs": [
    {
     "data": {
      "text/plain": [
       "False"
      ]
     },
     "execution_count": 70,
     "metadata": {},
     "output_type": "execute_result"
    }
   ],
   "source": [
    "id( newJustNumbers ) == id( copyNumbersDeepcopy )"
   ]
  },
  {
   "cell_type": "markdown",
   "id": "a78a4ebb-7d30-48df-8026-d33ab0f1fea2",
   "metadata": {},
   "source": [
    "При использовании `copy.deepcopy()` созадётся новый объект с таким же значением, но более заморочено.  \n",
    "Все вложенные элементы в этом случае так же копируются отдельно."
   ]
  },
  {
   "cell_type": "markdown",
   "id": "4f37cb61-5b30-46c8-801f-b6c980a55f28",
   "metadata": {},
   "source": [
    "### 05. Листы - Вывод части листа"
   ]
  },
  {
   "cell_type": "code",
   "execution_count": 73,
   "id": "d4933f3b-a46c-4c4e-95d9-487b4e349206",
   "metadata": {},
   "outputs": [],
   "source": [
    "sequence = [ 'Первый', 'Второй', 'Третий', 'Четвертый', 'Пятый' ]"
   ]
  },
  {
   "cell_type": "code",
   "execution_count": 74,
   "id": "0f8fe2c8-8325-48e5-834c-92dff06f1a6c",
   "metadata": {},
   "outputs": [
    {
     "data": {
      "text/plain": [
       "['Второй', 'Третий', 'Четвертый', 'Пятый']"
      ]
     },
     "execution_count": 74,
     "metadata": {},
     "output_type": "execute_result"
    }
   ],
   "source": [
    "sequence[1:]"
   ]
  },
  {
   "cell_type": "code",
   "execution_count": 75,
   "id": "d3884fbb-6b70-4257-a240-96390d64a3ec",
   "metadata": {},
   "outputs": [
    {
     "data": {
      "text/plain": [
       "'Второй'"
      ]
     },
     "execution_count": 75,
     "metadata": {},
     "output_type": "execute_result"
    }
   ],
   "source": [
    "sequence[1:2][0]"
   ]
  },
  {
   "cell_type": "code",
   "execution_count": 76,
   "id": "af852b34-0e8c-46fd-8090-50e53783eb78",
   "metadata": {},
   "outputs": [
    {
     "data": {
      "text/plain": [
       "['Первый', 'Второй', 'Третий']"
      ]
     },
     "execution_count": 76,
     "metadata": {},
     "output_type": "execute_result"
    }
   ],
   "source": [
    "sequence[0:3]"
   ]
  },
  {
   "cell_type": "code",
   "execution_count": 77,
   "id": "0183c522-6861-4be3-9f15-abc787c7b5bd",
   "metadata": {},
   "outputs": [
    {
     "data": {
      "text/plain": [
       "['Четвертый', 'Пятый']"
      ]
     },
     "execution_count": 77,
     "metadata": {},
     "output_type": "execute_result"
    }
   ],
   "source": [
    "sequence[-2:]"
   ]
  },
  {
   "cell_type": "markdown",
   "id": "f5b9482d-b307-4689-a782-43ff657970fe",
   "metadata": {},
   "source": [
    "При указании третьего элемента через двоеточие **указывается шаг**"
   ]
  },
  {
   "cell_type": "code",
   "execution_count": 79,
   "id": "bd365680-f7fd-453f-8cef-159e28289237",
   "metadata": {},
   "outputs": [
    {
     "data": {
      "text/plain": [
       "['Первый', 'Третий', 'Пятый']"
      ]
     },
     "execution_count": 79,
     "metadata": {},
     "output_type": "execute_result"
    }
   ],
   "source": [
    "sequence[0:5:2]"
   ]
  },
  {
   "cell_type": "markdown",
   "id": "b481bb37-1560-4146-aaed-bb61bbcf7b8a",
   "metadata": {},
   "source": [
    "### 06. Листы - Перевод из листа в строку и обратно"
   ]
  },
  {
   "cell_type": "code",
   "execution_count": 81,
   "id": "f1d1d244-f5f1-4495-8044-e50cfa2b2c2d",
   "metadata": {},
   "outputs": [
    {
     "data": {
      "text/plain": [
       "['Первый', 'Второй', 'Третий', 'Четвертый', 'Пятый']"
      ]
     },
     "execution_count": 81,
     "metadata": {},
     "output_type": "execute_result"
    }
   ],
   "source": [
    "sequence"
   ]
  },
  {
   "cell_type": "code",
   "execution_count": 82,
   "id": "668d4a73-55ef-481b-89bd-ab06fe623c6b",
   "metadata": {},
   "outputs": [
    {
     "data": {
      "text/plain": [
       "list"
      ]
     },
     "execution_count": 82,
     "metadata": {},
     "output_type": "execute_result"
    }
   ],
   "source": [
    "type( sequence )"
   ]
  },
  {
   "cell_type": "markdown",
   "id": "9886caab-51bf-42c1-8b13-94e3a6315856",
   "metadata": {},
   "source": [
    "Метод `''.join()` используется чтобы лист перевести в строку.  \n",
    "В кавычках можно поставить любой разделитель. Это можеть быть символ, слово, даже юникод."
   ]
  },
  {
   "cell_type": "code",
   "execution_count": 84,
   "id": "c6829010-b1e5-4d0a-aa58-d3dc38cbd747",
   "metadata": {},
   "outputs": [
    {
     "data": {
      "text/plain": [
       "'Первый;Второй;Третий;Четвертый;Пятый'"
      ]
     },
     "execution_count": 84,
     "metadata": {},
     "output_type": "execute_result"
    }
   ],
   "source": [
    "sequence_text = ';'.join( sequence )\n",
    "sequence_text"
   ]
  },
  {
   "cell_type": "code",
   "execution_count": 85,
   "id": "a7aaef44-229e-44a1-a114-2881ad875ff1",
   "metadata": {},
   "outputs": [
    {
     "data": {
      "text/plain": [
       "str"
      ]
     },
     "execution_count": 85,
     "metadata": {},
     "output_type": "execute_result"
    }
   ],
   "source": [
    "type( sequence_text )"
   ]
  },
  {
   "cell_type": "markdown",
   "id": "9ad8270b-280b-4f9d-b3ec-efaa63ea180b",
   "metadata": {},
   "source": [
    "Метод `split('')` используется чтобы строку перевести в лист.  \n",
    "В скобочках пишется разделитель в кавычках."
   ]
  },
  {
   "cell_type": "code",
   "execution_count": 87,
   "id": "052ed0f6-e86f-4947-a93f-7999d26b3788",
   "metadata": {},
   "outputs": [
    {
     "data": {
      "text/plain": [
       "['one', 'two', 'three']"
      ]
     },
     "execution_count": 87,
     "metadata": {},
     "output_type": "execute_result"
    }
   ],
   "source": [
    "sequence_list = 'one;two;three'.split(';')\n",
    "sequence_list"
   ]
  },
  {
   "cell_type": "code",
   "execution_count": 88,
   "id": "8760f056-cfcd-4d53-9042-0a66f9114617",
   "metadata": {},
   "outputs": [
    {
     "data": {
      "text/plain": [
       "list"
      ]
     },
     "execution_count": 88,
     "metadata": {},
     "output_type": "execute_result"
    }
   ],
   "source": [
    "type( sequence_list )"
   ]
  },
  {
   "cell_type": "markdown",
   "id": "cd3f74c0-e012-4ac6-aad6-9f8785e72c0a",
   "metadata": {},
   "source": [
    "### 07. Листы - List comprehensionn"
   ]
  },
  {
   "cell_type": "markdown",
   "id": "5a067c2d-aa17-44e8-a807-437cf43ec2c7",
   "metadata": {},
   "source": [
    "Синтактический сахар  \n",
    "Когда вы можете большую структуру кода сжать во что-то короткое."
   ]
  },
  {
   "cell_type": "markdown",
   "id": "39435340-fbde-4a4a-a588-1e18c1f51f15",
   "metadata": {},
   "source": [
    "**Задача**: вывести числа от 0 до 9"
   ]
  },
  {
   "cell_type": "code",
   "execution_count": 92,
   "id": "c54f759b-b7e4-43f7-8dba-6afdf206fff9",
   "metadata": {},
   "outputs": [
    {
     "name": "stdout",
     "output_type": "stream",
     "text": [
      "0\n",
      "1\n",
      "2\n",
      "3\n",
      "4\n",
      "5\n",
      "6\n",
      "7\n",
      "8\n",
      "9\n"
     ]
    }
   ],
   "source": [
    "for i in range( 10 ):\n",
    "    print( i )"
   ]
  },
  {
   "cell_type": "markdown",
   "id": "a2cdd929-f585-46ea-8d6f-fb05b8711e21",
   "metadata": {},
   "source": [
    "**Задача**: вывести числа от 1 до 14 с шагом 3"
   ]
  },
  {
   "cell_type": "code",
   "execution_count": 94,
   "id": "d36f1560-325c-4434-9434-07267aa30513",
   "metadata": {},
   "outputs": [
    {
     "name": "stdout",
     "output_type": "stream",
     "text": [
      "1\n",
      "4\n",
      "7\n",
      "10\n",
      "13\n"
     ]
    }
   ],
   "source": [
    "for i in range( 1, 14, 3 ):\n",
    "    print( i )"
   ]
  },
  {
   "cell_type": "markdown",
   "id": "65aaeff1-5bdb-49ac-bd33-03e081bc1107",
   "metadata": {},
   "source": [
    "**Задача**: создать список с числами от 0 до 9"
   ]
  },
  {
   "cell_type": "code",
   "execution_count": 96,
   "id": "fa8bded9-9977-4f24-aaa5-dacfc3b80da1",
   "metadata": {},
   "outputs": [
    {
     "data": {
      "text/plain": [
       "[0, 1, 2, 3, 4, 5, 6, 7, 8, 9]"
      ]
     },
     "execution_count": 96,
     "metadata": {},
     "output_type": "execute_result"
    }
   ],
   "source": [
    "list( range( 10 ) )"
   ]
  },
  {
   "cell_type": "markdown",
   "id": "973ea8ed-6923-4e3a-8c4b-6189179b6a75",
   "metadata": {},
   "source": [
    "Вывести `range()` напрямую невозможно, так как Python 3 не держит в памяти генераторы пока с ними не начнут выполнять действия."
   ]
  },
  {
   "cell_type": "code",
   "execution_count": 98,
   "id": "bf39640e-60d6-47e9-9f6d-f927041aff53",
   "metadata": {},
   "outputs": [
    {
     "data": {
      "text/plain": [
       "range(0, 40, 3)"
      ]
     },
     "execution_count": 98,
     "metadata": {},
     "output_type": "execute_result"
    }
   ],
   "source": [
    "sequence1 = range( 0, 40, 3 )\n",
    "sequence1"
   ]
  },
  {
   "cell_type": "markdown",
   "id": "45178f23-1281-4286-acfd-4271894c7964",
   "metadata": {},
   "source": [
    "**Задача**: дана последовательность чисел. Нужно оставить только те, что делятся на 5."
   ]
  },
  {
   "cell_type": "code",
   "execution_count": 100,
   "id": "391bdfb9-5a43-4a4c-998a-50433f2fadd0",
   "metadata": {},
   "outputs": [
    {
     "name": "stdout",
     "output_type": "stream",
     "text": [
      "0\n",
      "15\n",
      "30\n"
     ]
    }
   ],
   "source": [
    "for num in sequence1:\n",
    "    if num % 5 == 0:\n",
    "        print( num )"
   ]
  },
  {
   "cell_type": "markdown",
   "id": "a31fc578-c5c0-4e60-ae1e-c4bb9e4f082a",
   "metadata": {},
   "source": [
    "% modulo - это значение остатка после деления"
   ]
  },
  {
   "cell_type": "markdown",
   "id": "5ed2628f-5f03-4fa6-8ae6-1c42b4364a71",
   "metadata": {},
   "source": [
    "**Задача**: Создать лист с отфильтрованными значениями"
   ]
  },
  {
   "cell_type": "code",
   "execution_count": 103,
   "id": "03d3b9f8-eb80-4904-a175-7d79276cb6cf",
   "metadata": {},
   "outputs": [
    {
     "name": "stdout",
     "output_type": "stream",
     "text": [
      "[0, 15, 30]\n"
     ]
    }
   ],
   "source": [
    "filteredSequence = []\n",
    "\n",
    "for num in sequence1:\n",
    "    if num % 5 == 0:\n",
    "        filteredSequence.append( num )\n",
    "\n",
    "print(filteredSequence)"
   ]
  },
  {
   "cell_type": "markdown",
   "id": "27ee18ba-49ec-4f1d-90d1-5419f9aba3b2",
   "metadata": {},
   "source": [
    "**Задача**: Сохранить отфильтрованный лист с помощью `List comprehension`"
   ]
  },
  {
   "cell_type": "markdown",
   "id": "4ddbadc9-246e-4b76-88f6-baa929cf84d0",
   "metadata": {},
   "source": [
    "Структура List comprehension:\n",
    "``` [выражение for элемент in итерируемый_объект if условие] ```\n",
    "- **выражение** - что нужно добавить в список. Это может быть как сам элемент (элемент), так и результат какого-либо вычисления над ним.\n",
    "- **for элемент in итерируемый_объект** - цикл, который перебирает каждый элемент в итерируемом объекте (например, списке или диапазоне).\n",
    "- **if условие** (опционально) - фильтр, оставляющий в новом списке только те элементы, которые удовлетворяют данному условию.`"
   ]
  },
  {
   "cell_type": "code",
   "execution_count": 106,
   "id": "0644a8d2-61af-4b73-bb47-c244cbb5cc21",
   "metadata": {},
   "outputs": [
    {
     "data": {
      "text/plain": [
       "[0, 15, 30]"
      ]
     },
     "execution_count": 106,
     "metadata": {},
     "output_type": "execute_result"
    }
   ],
   "source": [
    "[ num for num in sequence1 if num % 5 == 0 ]"
   ]
  },
  {
   "cell_type": "markdown",
   "id": "5907c41d-16a8-4900-9b08-c8c10aa6f914",
   "metadata": {},
   "source": [
    "**Задача**: Сколько слов содержится в каждом поисковом запросе"
   ]
  },
  {
   "cell_type": "code",
   "execution_count": 108,
   "id": "3a127791-b682-45b5-813b-16d6e520bce3",
   "metadata": {},
   "outputs": [
    {
     "data": {
      "text/plain": [
       "['смотреть сериалы онлайн',\n",
       " 'новости',\n",
       " 'какая рыба вобла',\n",
       " 'пхенчхан золото онлайн',\n",
       " 'сколько дней до 8 марта']"
      ]
     },
     "execution_count": 108,
     "metadata": {},
     "output_type": "execute_result"
    }
   ],
   "source": [
    "queries = ['смотреть сериалы онлайн', 'новости', 'какая рыба вобла', 'пхенчхан золото онлайн', 'сколько дней до 8 марта']\n",
    "queries"
   ]
  },
  {
   "cell_type": "code",
   "execution_count": 109,
   "id": "418b239d-9ab6-433b-b7a6-2f2751b7884d",
   "metadata": {},
   "outputs": [
    {
     "data": {
      "text/plain": [
       "[3, 1, 3, 3, 5]"
      ]
     },
     "execution_count": 109,
     "metadata": {},
     "output_type": "execute_result"
    }
   ],
   "source": [
    "[ len(words.split(' ')) for words in queries ]"
   ]
  },
  {
   "cell_type": "code",
   "execution_count": null,
   "id": "59fe4889-6167-4fe0-934d-33471bcb4835",
   "metadata": {},
   "outputs": [],
   "source": []
  }
 ],
 "metadata": {
  "kernelspec": {
   "display_name": "Python 3 (ipykernel)",
   "language": "python",
   "name": "python3"
  },
  "language_info": {
   "codemirror_mode": {
    "name": "ipython",
    "version": 3
   },
   "file_extension": ".py",
   "mimetype": "text/x-python",
   "name": "python",
   "nbconvert_exporter": "python",
   "pygments_lexer": "ipython3",
   "version": "3.11.7"
  }
 },
 "nbformat": 4,
 "nbformat_minor": 5
}
